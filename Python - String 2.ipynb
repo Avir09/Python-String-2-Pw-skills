{
 "cells": [
  {
   "cell_type": "raw",
   "id": "9c48edeb-7124-4694-bb1b-1a5a695fa106",
   "metadata": {},
   "source": [
    "Q.1\n",
    "To store a single quote character (') as a string in a variable, you can use double quotes to define the string, like this:\n",
    "my_string = \"It's a beautiful day.\""
   ]
  },
  {
   "cell_type": "raw",
   "id": "7696f536-e6a6-419f-b3cf-65b954d6d699",
   "metadata": {},
   "source": [
    "Q.2\n",
    "Here x is a string type variable.\n",
    "Python does not have a specific data type for a single character. Instead, a character is simply a string with a length of 1. So, when you assign a single character to a variable, Python automatically creates a string object with a length of 1."
   ]
  },
  {
   "cell_type": "code",
   "execution_count": 2,
   "id": "9105a3f3-d3f8-4a1d-bc69-de9efd76ebd2",
   "metadata": {},
   "outputs": [
    {
     "name": "stdout",
     "output_type": "stream",
     "text": [
      "11\n"
     ]
    }
   ],
   "source": [
    "my_string = 'Welcome to Python foundation course'\n",
    "index = my_string.find('Python')\n",
    "print(index)"
   ]
  },
  {
   "cell_type": "code",
   "execution_count": 4,
   "id": "549eaf93-de43-4830-80cc-dc84354b128b",
   "metadata": {},
   "outputs": [
    {
     "name": "stdout",
     "output_type": "stream",
     "text": [
      "6\n"
     ]
    }
   ],
   "source": [
    "my_string = 'Welcome to Python foundation course'\n",
    "count = my_string.count('o')\n",
    "print(count)"
   ]
  },
  {
   "cell_type": "code",
   "execution_count": 5,
   "id": "66cab08c-dd84-46db-9c5b-764ef105da7e",
   "metadata": {},
   "outputs": [
    {
     "name": "stdout",
     "output_type": "stream",
     "text": [
      "35\n"
     ]
    }
   ],
   "source": [
    "my_string = 'Welcome to Python foundation course'\n",
    "length = len(my_string)\n",
    "print(length)"
   ]
  },
  {
   "cell_type": "code",
   "execution_count": 8,
   "id": "e7b5dc65-9f52-4032-9133-75dc3c20d6c1",
   "metadata": {},
   "outputs": [
    {
     "name": "stdout",
     "output_type": "stream",
     "text": [
      "Welcome to Python foundation course\n"
     ]
    }
   ],
   "source": [
    "string1 = 'Welcome to Python'\n",
    "string2 = 'foundation course'\n",
    "new_string = string1 + ' ' + string2\n",
    "print(new_string)"
   ]
  },
  {
   "cell_type": "code",
   "execution_count": 9,
   "id": "15ea0932-3ead-4998-bb19-0cf10e017cf1",
   "metadata": {},
   "outputs": [
    {
     "name": "stdout",
     "output_type": "stream",
     "text": [
      "Original numerical value: 42\n",
      "Converted string value: 42\n"
     ]
    }
   ],
   "source": [
    "# Store a numerical value in a variable\n",
    "my_number = 42\n",
    "\n",
    "# Convert the numerical value to a string\n",
    "my_string = str(my_number)\n",
    "\n",
    "# Print the original numerical value and the converted string value\n",
    "print(\"Original numerical value:\", my_number)\n",
    "print(\"Converted string value:\", my_string)\n"
   ]
  },
  {
   "cell_type": "code",
   "execution_count": 10,
   "id": "a487c878-b472-42dc-98bd-37e5aa236740",
   "metadata": {},
   "outputs": [
    {
     "name": "stdout",
     "output_type": "stream",
     "text": [
      "Total number of uppercase letters: 2\n"
     ]
    }
   ],
   "source": [
    "word = \"PanaJi@12256\"\n",
    "uppercase_count = sum(1 for char in word if char.isupper())\n",
    "\n",
    "print(\"Total number of uppercase letters:\", uppercase_count)\n"
   ]
  },
  {
   "cell_type": "code",
   "execution_count": 12,
   "id": "252a767b-fc13-402a-b52e-2b76c9f519d7",
   "metadata": {},
   "outputs": [
    {
     "name": "stdout",
     "output_type": "stream",
     "text": [
      "Total number of lowercase letters: 4\n"
     ]
    }
   ],
   "source": [
    "word = \"PanaJi@12256\"\n",
    "uppercase_count = sum(1 for char in word if char.islower())\n",
    "\n",
    "print(\"Total number of lowercase letters:\", uppercase_count)\n"
   ]
  },
  {
   "cell_type": "code",
   "execution_count": null,
   "id": "70d2930a-94e7-4031-9d79-2c1d4c2faf27",
   "metadata": {},
   "outputs": [],
   "source": []
  }
 ],
 "metadata": {
  "kernelspec": {
   "display_name": "Python 3 (ipykernel)",
   "language": "python",
   "name": "python3"
  },
  "language_info": {
   "codemirror_mode": {
    "name": "ipython",
    "version": 3
   },
   "file_extension": ".py",
   "mimetype": "text/x-python",
   "name": "python",
   "nbconvert_exporter": "python",
   "pygments_lexer": "ipython3",
   "version": "3.10.8"
  }
 },
 "nbformat": 4,
 "nbformat_minor": 5
}
